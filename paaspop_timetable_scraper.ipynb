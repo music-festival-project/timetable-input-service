{
 "cells": [
  {
   "cell_type": "code",
   "execution_count": null,
   "metadata": {},
   "outputs": [],
   "source": [
    "%load_ext autoreload\n",
    "%autoreload 2"
   ]
  },
  {
   "cell_type": "code",
   "execution_count": null,
   "metadata": {},
   "outputs": [],
   "source": [
    "import pandas as pd\n",
    "import time\n",
    "from bs4 import BeautifulSoup\n",
    "import utilities\n",
    "from selenium import webdriver\n",
    "from datetime import date, timedelta"
   ]
  },
  {
   "cell_type": "markdown",
   "metadata": {},
   "source": [
    "## Scraping initial steps Strategy\n",
    "\n",
    "1. Extract the HTML from the website via Selenium\n",
    "2. Soupify (process) the HTML via BeautifulSoup\n",
    "3. Determine what HTML tags are in the soup and process them into a set\n",
    "4. Get the corresponding classes to the HTML tags and check with the website which sections are important\n",
    "    - At this step we need the stage, artist and set times\n",
    "    - These can be found in the HTML as `spans` and either have an `itemprop` or `class` attribute\n",
    "5. Process the text from the corresponding tags\n",
    "6. Translate the data into a pandas dataframe where: \n",
    "    - Each row has the start time, end time, venue and artist name\n",
    "    - `Note: this website is helpful as the order in which the festival sets are scraped is chronological.`\n",
    "7. Output dataframe as CSV files"
   ]
  },
  {
   "cell_type": "markdown",
   "metadata": {},
   "source": [
    "# Soupify the URL"
   ]
  },
  {
   "cell_type": "code",
   "execution_count": null,
   "metadata": {},
   "outputs": [],
   "source": [
    "# sunday\n",
    "timetable_url = 'https://partyflock.nl/party/445629:Paaspop'\n",
    "# saturday\n",
    "timetable_url = 'https://partyflock.nl/party/445628:Paaspop'\n",
    "# friday\n",
    "timetable_url = 'https://partyflock.nl/party/429538:Paaspop'\n",
    "\n",
    "driver = webdriver.Chrome()\n",
    "driver.maximize_window()\n",
    "driver.get(timetable_url)\n",
    "\n",
    "time.sleep(5)\n",
    "content = driver.page_source.encode('utf-8').strip()\n",
    "soup = BeautifulSoup(content, \"html.parser\")\n",
    "driver.quit()"
   ]
  },
  {
   "cell_type": "markdown",
   "metadata": {},
   "source": [
    "# Create element subset with attr `itemprop` or `class`"
   ]
  },
  {
   "cell_type": "markdown",
   "metadata": {},
   "source": [
    "From the soupified results, get all the span elements.\n",
    "Then from those, get the text of the elements that contain itemprop or class."
   ]
  },
  {
   "cell_type": "code",
   "execution_count": null,
   "metadata": {},
   "outputs": [],
   "source": [
    "element_list = []\n",
    "\n",
    "for i in soup.find_all('span'):\n",
    "    if i.get_text() == '':\n",
    "        continue\n",
    "    if i.has_attr(\"itemprop\"):\n",
    "        # This ` category:artist` is used later for scraping artist name.\n",
    "        element_list.append(i.get_text() + ' category:artist')\n",
    "    if i.has_attr(\"class\"): \n",
    "        element_list.append(i.get_text())"
   ]
  },
  {
   "cell_type": "markdown",
   "metadata": {},
   "source": [
    "### Getting stages\n",
    "\n",
    "The `element_list` is structured something like:\n",
    "```\n",
    "[\n",
    "\"1\",\n",
    "\"details_\",\n",
    "\"details_\",\n",
    "\"details_\",\n",
    "\"details_\",\n",
    "\"2\",\n",
    "\"details_\",\n",
    "\"details_\",\n",
    "\"details_\",\n",
    "\"details_\",\n",
    "\"3\",\n",
    "....\n",
    "]\n",
    "```\n",
    "\n",
    "The entries in `element_list` that are just a number, map directly to the stages from the HTML. \n",
    "\n",
    "This is useful to separating out the soupified results to parse data per stage."
   ]
  },
  {
   "cell_type": "code",
   "execution_count": null,
   "metadata": {},
   "outputs": [],
   "source": [
    "NO_STAGES = 17 # 16 stages + 1 for looping\n",
    "stage_indices = []\n",
    "for i in range(1, NO_STAGES):\n",
    "    stage_indices.append(element_list.index(f'{i}'))"
   ]
  },
  {
   "cell_type": "code",
   "execution_count": null,
   "metadata": {},
   "outputs": [],
   "source": [
    "# so far so good but these are the indices of the numbers not the stages\n",
    "start_stage_indices = [x + 1 for x in stage_indices]\n",
    "# i can take the last index of the list\n",
    "# but i know the last entries of the list are junk\n",
    "end_string_identifier = '@ 12 augustus 2022'\n",
    "end_string_index = element_list.index(end_string_identifier)\n",
    "end_stage_indices = [x+1 for x in stage_indices[1:]]\n",
    "end_stage_indices.append(end_string_index)"
   ]
  },
  {
   "cell_type": "code",
   "execution_count": null,
   "metadata": {},
   "outputs": [],
   "source": [
    "# If start and end stage lens are different, can't create start_stops\n",
    "assert len(start_stage_indices) == len(end_stage_indices)\n",
    "start_stops = list(zip(start_stage_indices, end_stage_indices))"
   ]
  },
  {
   "cell_type": "code",
   "execution_count": null,
   "metadata": {},
   "outputs": [],
   "source": [
    "# * is needed in order to unpack each inner tuple into\n",
    "# its constituent integer arguments \n",
    "# and pass each individually into slice\n",
    "sliced_list_of_sets = [element_list[slice(*s)] for s in start_stops]"
   ]
  },
  {
   "cell_type": "markdown",
   "metadata": {},
   "source": [
    "## Can now map stages to performer data\n",
    "\n",
    "The sliced_list_of_sets is a list of lists. \n",
    "\n",
    "Each element in the list corresponds to a separate stage. The next step is processing that."
   ]
  },
  {
   "cell_type": "code",
   "execution_count": null,
   "metadata": {},
   "outputs": [],
   "source": [
    "festival_set_dict = {}\n",
    "for item in sliced_list_of_sets:\n",
    "    stage_name = item[0]\n",
    "    stage_performer_data = item[1:]\n",
    "    festival_set_dict[stage_name] = stage_performer_data"
   ]
  },
  {
   "cell_type": "code",
   "execution_count": null,
   "metadata": {},
   "outputs": [],
   "source": [
    "festival_date = date(2022, 4, 7)\n",
    "\n",
    "stage_datetime_map = {}\n",
    "festival_set_dict = utilities.get_performer_data_per_stage(sliced_list_of_sets)\n",
    "for stage, stage_list in festival_set_dict.items():\n",
    "    time_stamp_indices = utilities.get_timestamp_indices(stage_list)\n",
    "    time_stamp_artist_map = utilities.map_timestamp_to_artist(time_stamp_indices, stage_list)\n",
    "    substring_to_clean = \"category:artist\"\n",
    "    cleaned_time_stamp_artist_map = utilities.clean_artist_substring_tags(time_stamp_artist_map, substring_to_clean)\n",
    "    datetime_artist_map = utilities.map_to_datetime_keys(cleaned_time_stamp_artist_map, festival_date)\n",
    "    stage_datetime_map[stage] = datetime_artist_map"
   ]
  },
  {
   "cell_type": "code",
   "execution_count": null,
   "metadata": {},
   "outputs": [],
   "source": [
    "festival_df = pd.DataFrame()\n",
    "for stage, setlist in stage_datetime_map.items():\n",
    "    setlist = utilities.unpack_festival_datetime_artist_dict(setlist, stage)\n",
    "    setlist_df = pd.DataFrame.from_dict(setlist)\n",
    "    festival_df = pd.concat([festival_df, setlist_df], axis = 0)"
   ]
  },
  {
   "cell_type": "code",
   "execution_count": null,
   "metadata": {},
   "outputs": [],
   "source": [
    "entries = festival_df[\"start\"] > festival_df[\"end\"]\n",
    "festival_df.loc[entries, \"end\"] = festival_df.loc[entries, \"end\"].apply(lambda end: end + timedelta(days=1))"
   ]
  },
  {
   "cell_type": "code",
   "execution_count": null,
   "metadata": {},
   "outputs": [],
   "source": [
    "out = festival_df.to_json(orient='records')\n",
    "with open(\"paaspop_friday.json\", \"w\") as outfile:\n",
    "    outfile.write(out)\n",
    "\n",
    "festival_df.to_csv('paaspop_friday.csv')\n",
    "festival_df.to_pickle('paaspop_friday.pkl')"
   ]
  }
 ],
 "metadata": {
  "kernelspec": {
   "display_name": "env",
   "language": "python",
   "name": "python3"
  },
  "language_info": {
   "codemirror_mode": {
    "name": "ipython",
    "version": 3
   },
   "file_extension": ".py",
   "mimetype": "text/x-python",
   "name": "python",
   "nbconvert_exporter": "python",
   "pygments_lexer": "ipython3",
   "version": "3.11.0"
  }
 },
 "nbformat": 4,
 "nbformat_minor": 2
}
